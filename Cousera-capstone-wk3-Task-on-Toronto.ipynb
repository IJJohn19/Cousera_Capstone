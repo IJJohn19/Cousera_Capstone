{
    "cells": [
        {
            "cell_type": "markdown",
            "metadata": {},
            "source": "# Importing Relevant Libraries"
        },
        {
            "cell_type": "code",
            "execution_count": 117,
            "metadata": {
                "scrolled": true
            },
            "outputs": [
                {
                    "name": "stdout",
                    "output_type": "stream",
                    "text": "Solving environment: done\n\n# All requested packages already installed.\n\nLibraries installed\n"
                }
            ],
            "source": "import numpy as np #for array operations\nimport pandas as pd #to create and querry dataframes\n\nfrom urllib.request import urlopen as uReq #to open the url from which the data is to be extracted\nfrom bs4 import BeautifulSoup #to get the html structure of websites and work with it, extract informations from it, etc.\n\n!conda install -c conda-forge geopy --yes # uncomment this line if you haven't completed the Foursquare API lab\nfrom geopy.geocoders import Nominatim # convert an address into latitude and longitude values\nprint('Libraries installed')"
        },
        {
            "cell_type": "markdown",
            "metadata": {},
            "source": "# Extracting the Required Data and Importing Same\nThe following code defines the basic functions for reading the url and extracting the HTML from it. "
        },
        {
            "cell_type": "code",
            "execution_count": 125,
            "metadata": {},
            "outputs": [
                {
                    "data": {
                        "text/html": "<div>\n<style scoped>\n    .dataframe tbody tr th:only-of-type {\n        vertical-align: middle;\n    }\n\n    .dataframe tbody tr th {\n        vertical-align: top;\n    }\n\n    .dataframe thead th {\n        text-align: right;\n    }\n</style>\n<table border=\"1\" class=\"dataframe\">\n  <thead>\n    <tr style=\"text-align: right;\">\n      <th></th>\n      <th>0</th>\n      <th>1</th>\n      <th>2</th>\n    </tr>\n  </thead>\n  <tbody>\n    <tr>\n      <th>169</th>\n      <td>M5Z</td>\n      <td>Not assigned</td>\n      <td>0</td>\n    </tr>\n    <tr>\n      <th>170</th>\n      <td>M6Z</td>\n      <td>Not assigned</td>\n      <td>0</td>\n    </tr>\n    <tr>\n      <th>171</th>\n      <td>M7Z</td>\n      <td>Not assigned</td>\n      <td>0</td>\n    </tr>\n    <tr>\n      <th>172</th>\n      <td>M8Z</td>\n      <td>Etobicoke</td>\n      <td>(Mimico NW / The Queensway West / South of Blo...</td>\n    </tr>\n    <tr>\n      <th>173</th>\n      <td>M9Z</td>\n      <td>Not assigned</td>\n      <td>0</td>\n    </tr>\n  </tbody>\n</table>\n</div>",
                        "text/plain": "       0             1                                                  2\n169  M5Z  Not assigned                                                  0\n170  M6Z  Not assigned                                                  0\n171  M7Z  Not assigned                                                  0\n172  M8Z     Etobicoke  (Mimico NW / The Queensway West / South of Blo...\n173  M9Z  Not assigned                                                  0"
                    },
                    "execution_count": 125,
                    "metadata": {},
                    "output_type": "execute_result"
                }
            ],
            "source": "# The code was removed by Watson Studio for sharing."
        },
        {
            "cell_type": "markdown",
            "metadata": {},
            "source": "# Data Cleansing\n### Adding Column Headers"
        },
        {
            "cell_type": "code",
            "execution_count": 126,
            "metadata": {},
            "outputs": [
                {
                    "data": {
                        "text/html": "<div>\n<style scoped>\n    .dataframe tbody tr th:only-of-type {\n        vertical-align: middle;\n    }\n\n    .dataframe tbody tr th {\n        vertical-align: top;\n    }\n\n    .dataframe thead th {\n        text-align: right;\n    }\n</style>\n<table border=\"1\" class=\"dataframe\">\n  <thead>\n    <tr style=\"text-align: right;\">\n      <th></th>\n      <th>PostalCode</th>\n      <th>Borough</th>\n      <th>Neighborhood</th>\n    </tr>\n  </thead>\n  <tbody>\n    <tr>\n      <th>0</th>\n      <td>M3A</td>\n      <td>North York</td>\n      <td>(Parkwoods)</td>\n    </tr>\n    <tr>\n      <th>1</th>\n      <td>M4A</td>\n      <td>North York</td>\n      <td>(Victoria Village)</td>\n    </tr>\n    <tr>\n      <th>2</th>\n      <td>M5A</td>\n      <td>Downtown Toronto</td>\n      <td>(Regent Park , Harbourfront)</td>\n    </tr>\n    <tr>\n      <th>3</th>\n      <td>M6A</td>\n      <td>North York</td>\n      <td>(Lawrence Manor , Lawrence Heights)</td>\n    </tr>\n    <tr>\n      <th>4</th>\n      <td>M7A</td>\n      <td>Queen's Park</td>\n      <td>/ Ontario Provincial Government</td>\n    </tr>\n  </tbody>\n</table>\n</div>",
                        "text/plain": "  PostalCode           Borough                         Neighborhood\n0        M3A        North York                          (Parkwoods)\n1        M4A        North York                   (Victoria Village)\n2        M5A  Downtown Toronto         (Regent Park , Harbourfront)\n3        M6A        North York  (Lawrence Manor , Lawrence Heights)\n4        M7A      Queen's Park      / Ontario Provincial Government"
                    },
                    "execution_count": 126,
                    "metadata": {},
                    "output_type": "execute_result"
                }
            ],
            "source": "Columns = ['PostalCode', 'Borough', 'Neighborhood'] #Defining an empty list of headers\ndf_data_0.columns = Columns\ndf_data_0.head()"
        },
        {
            "cell_type": "markdown",
            "metadata": {},
            "source": "### Dropping Postcodes without Borough "
        },
        {
            "cell_type": "code",
            "execution_count": 127,
            "metadata": {},
            "outputs": [
                {
                    "data": {
                        "text/html": "<div>\n<style scoped>\n    .dataframe tbody tr th:only-of-type {\n        vertical-align: middle;\n    }\n\n    .dataframe tbody tr th {\n        vertical-align: top;\n    }\n\n    .dataframe thead th {\n        text-align: right;\n    }\n</style>\n<table border=\"1\" class=\"dataframe\">\n  <thead>\n    <tr style=\"text-align: right;\">\n      <th></th>\n      <th>PostalCode</th>\n      <th>Borough</th>\n      <th>Neighborhood</th>\n    </tr>\n  </thead>\n  <tbody>\n    <tr>\n      <th>98</th>\n      <td>M8X</td>\n      <td>Etobicoke</td>\n      <td>(The Kingsway / Montgomery Road / Old Mill North)</td>\n    </tr>\n    <tr>\n      <th>99</th>\n      <td>M4Y</td>\n      <td>Downtown Toronto</td>\n      <td>(Church and Wellesley)</td>\n    </tr>\n    <tr>\n      <th>100</th>\n      <td>M7Y</td>\n      <td>East Toronto</td>\n      <td>Church and Wellesley)</td>\n    </tr>\n    <tr>\n      <th>101</th>\n      <td>M8Y</td>\n      <td>Etobicoke</td>\n      <td>(Old Mill South / King's Mill Park / Sunnylea ...</td>\n    </tr>\n    <tr>\n      <th>102</th>\n      <td>M8Z</td>\n      <td>Etobicoke</td>\n      <td>(Mimico NW / The Queensway West / South of Blo...</td>\n    </tr>\n  </tbody>\n</table>\n</div>",
                        "text/plain": "    PostalCode           Borough  \\\n98         M8X         Etobicoke   \n99         M4Y  Downtown Toronto   \n100        M7Y      East Toronto   \n101        M8Y         Etobicoke   \n102        M8Z         Etobicoke   \n\n                                          Neighborhood  \n98   (The Kingsway / Montgomery Road / Old Mill North)  \n99                              (Church and Wellesley)  \n100                              Church and Wellesley)  \n101  (Old Mill South / King's Mill Park / Sunnylea ...  \n102  (Mimico NW / The Queensway West / South of Blo...  "
                    },
                    "execution_count": 127,
                    "metadata": {},
                    "output_type": "execute_result"
                }
            ],
            "source": "df=df_data_0 #just for the ease of typing. df is easier to type\nindexNames =df[ df['Borough'] == 'Not assigned'].index\ndf.drop(indexNames, axis=0, inplace=True) #To drop boroughs with 'Not assigned' as value as their values.\ndf = df.reset_index(drop=True) #To reset indices after dropping rows\n\ndf.tail() #To confirm that empty Boroughs are dropped."
        },
        {
            "cell_type": "markdown",
            "metadata": {},
            "source": "### Ensuring all Three Columns have String Values"
        },
        {
            "cell_type": "code",
            "execution_count": 128,
            "metadata": {},
            "outputs": [
                {
                    "data": {
                        "text/html": "<div>\n<style scoped>\n    .dataframe tbody tr th:only-of-type {\n        vertical-align: middle;\n    }\n\n    .dataframe tbody tr th {\n        vertical-align: top;\n    }\n\n    .dataframe thead th {\n        text-align: right;\n    }\n</style>\n<table border=\"1\" class=\"dataframe\">\n  <thead>\n    <tr style=\"text-align: right;\">\n      <th></th>\n      <th>PostalCode</th>\n      <th>Borough</th>\n      <th>Neighborhood</th>\n    </tr>\n  </thead>\n  <tbody>\n    <tr>\n      <th>0</th>\n      <td>M3A</td>\n      <td>North York</td>\n      <td>(Parkwoods)</td>\n    </tr>\n    <tr>\n      <th>1</th>\n      <td>M4A</td>\n      <td>North York</td>\n      <td>(Victoria Village)</td>\n    </tr>\n    <tr>\n      <th>2</th>\n      <td>M5A</td>\n      <td>Downtown Toronto</td>\n      <td>(Regent Park , Harbourfront)</td>\n    </tr>\n    <tr>\n      <th>3</th>\n      <td>M6A</td>\n      <td>North York</td>\n      <td>(Lawrence Manor , Lawrence Heights)</td>\n    </tr>\n    <tr>\n      <th>4</th>\n      <td>M7A</td>\n      <td>Queen's Park</td>\n      <td>/ Ontario Provincial Government</td>\n    </tr>\n  </tbody>\n</table>\n</div>",
                        "text/plain": "  PostalCode           Borough                         Neighborhood\n0        M3A        North York                          (Parkwoods)\n1        M4A        North York                   (Victoria Village)\n2        M5A  Downtown Toronto         (Regent Park , Harbourfront)\n3        M6A        North York  (Lawrence Manor , Lawrence Heights)\n4        M7A      Queen's Park      / Ontario Provincial Government"
                    },
                    "execution_count": 128,
                    "metadata": {},
                    "output_type": "execute_result"
                }
            ],
            "source": "df['PostalCode']=df['PostalCode'].astype(str) \ndf['Borough']=df['Borough'].astype(str) \ndf['Neighborhood']=df['Neighborhood'].astype(str) \ndf.head()"
        },
        {
            "cell_type": "code",
            "execution_count": 129,
            "metadata": {},
            "outputs": [
                {
                    "data": {
                        "text/plain": "103"
                    },
                    "execution_count": 129,
                    "metadata": {},
                    "output_type": "execute_result"
                }
            ],
            "source": "df.shape[0]"
        },
        {
            "cell_type": "markdown",
            "metadata": {},
            "source": "# Getting the Longitude and Latitudes of the Post Codes"
        },
        {
            "cell_type": "markdown",
            "metadata": {},
            "source": "### Adding more columns"
        },
        {
            "cell_type": "code",
            "execution_count": 130,
            "metadata": {},
            "outputs": [
                {
                    "data": {
                        "text/html": "<div>\n<style scoped>\n    .dataframe tbody tr th:only-of-type {\n        vertical-align: middle;\n    }\n\n    .dataframe tbody tr th {\n        vertical-align: top;\n    }\n\n    .dataframe thead th {\n        text-align: right;\n    }\n</style>\n<table border=\"1\" class=\"dataframe\">\n  <thead>\n    <tr style=\"text-align: right;\">\n      <th></th>\n      <th>PostalCode</th>\n      <th>Borough</th>\n      <th>Neighborhood</th>\n      <th>Latitude</th>\n      <th>Longitude</th>\n    </tr>\n  </thead>\n  <tbody>\n    <tr>\n      <th>0</th>\n      <td>M3A</td>\n      <td>North York</td>\n      <td>(Parkwoods)</td>\n      <td>0</td>\n      <td>0</td>\n    </tr>\n    <tr>\n      <th>1</th>\n      <td>M4A</td>\n      <td>North York</td>\n      <td>(Victoria Village)</td>\n      <td>0</td>\n      <td>0</td>\n    </tr>\n    <tr>\n      <th>2</th>\n      <td>M5A</td>\n      <td>Downtown Toronto</td>\n      <td>(Regent Park , Harbourfront)</td>\n      <td>0</td>\n      <td>0</td>\n    </tr>\n    <tr>\n      <th>3</th>\n      <td>M6A</td>\n      <td>North York</td>\n      <td>(Lawrence Manor , Lawrence Heights)</td>\n      <td>0</td>\n      <td>0</td>\n    </tr>\n    <tr>\n      <th>4</th>\n      <td>M7A</td>\n      <td>Queen's Park</td>\n      <td>/ Ontario Provincial Government</td>\n      <td>0</td>\n      <td>0</td>\n    </tr>\n  </tbody>\n</table>\n</div>",
                        "text/plain": "  PostalCode           Borough                         Neighborhood  Latitude  \\\n0        M3A        North York                          (Parkwoods)         0   \n1        M4A        North York                   (Victoria Village)         0   \n2        M5A  Downtown Toronto         (Regent Park , Harbourfront)         0   \n3        M6A        North York  (Lawrence Manor , Lawrence Heights)         0   \n4        M7A      Queen's Park      / Ontario Provincial Government         0   \n\n   Longitude  \n0          0  \n1          0  \n2          0  \n3          0  \n4          0  "
                    },
                    "execution_count": 130,
                    "metadata": {},
                    "output_type": "execute_result"
                }
            ],
            "source": "#Adding additional columns\ndf[3]=0\ndf[4]=0\n#df\nColumns = ['PostalCode', 'Borough', 'Neighborhood', 'Latitude', 'Longitude'] #Defining an empty list of new headers\ndf.columns = Columns\ndf.head()"
        },
        {
            "cell_type": "markdown",
            "metadata": {},
            "source": " ##### NB: Zeros '0' have been assigned to the Longitude and Latitude values of the above table as dummy values"
        },
        {
            "cell_type": "markdown",
            "metadata": {},
            "source": "## Getting the Longitude and Latitudes of each postcode in the table and replacing the zeros with them in the table"
        },
        {
            "cell_type": "code",
            "execution_count": 131,
            "metadata": {},
            "outputs": [
                {
                    "data": {
                        "text/plain": "RangeIndex(start=0, stop=103, step=1)"
                    },
                    "execution_count": 131,
                    "metadata": {},
                    "output_type": "execute_result"
                }
            ],
            "source": "rows_count=df.index\nrows_count"
        },
        {
            "cell_type": "code",
            "execution_count": 139,
            "metadata": {},
            "outputs": [
                {
                    "data": {
                        "text/html": "<div>\n<style scoped>\n    .dataframe tbody tr th:only-of-type {\n        vertical-align: middle;\n    }\n\n    .dataframe tbody tr th {\n        vertical-align: top;\n    }\n\n    .dataframe thead th {\n        text-align: right;\n    }\n</style>\n<table border=\"1\" class=\"dataframe\">\n  <thead>\n    <tr style=\"text-align: right;\">\n      <th></th>\n      <th>PostalCode</th>\n      <th>Borough</th>\n      <th>Neighborhood</th>\n      <th>Latitude</th>\n      <th>Longitude</th>\n    </tr>\n  </thead>\n  <tbody>\n    <tr>\n      <th>0</th>\n      <td>M3A</td>\n      <td>North York</td>\n      <td>(Parkwoods)</td>\n      <td>-37.902572</td>\n      <td>144.75778</td>\n    </tr>\n    <tr>\n      <th>1</th>\n      <td>M4A</td>\n      <td>North York</td>\n      <td>(Victoria Village)</td>\n      <td>-37.902572</td>\n      <td>144.75778</td>\n    </tr>\n    <tr>\n      <th>2</th>\n      <td>M5A</td>\n      <td>Downtown Toronto</td>\n      <td>(Regent Park , Harbourfront)</td>\n      <td>-37.902572</td>\n      <td>144.75778</td>\n    </tr>\n    <tr>\n      <th>3</th>\n      <td>M6A</td>\n      <td>North York</td>\n      <td>(Lawrence Manor , Lawrence Heights)</td>\n      <td>-37.902572</td>\n      <td>144.75778</td>\n    </tr>\n    <tr>\n      <th>4</th>\n      <td>M7A</td>\n      <td>Queen's Park</td>\n      <td>/ Ontario Provincial Government</td>\n      <td>-37.902572</td>\n      <td>144.75778</td>\n    </tr>\n    <tr>\n      <th>5</th>\n      <td>M9A</td>\n      <td>Etobicoke</td>\n      <td>(Islington Avenue)</td>\n      <td>-37.902572</td>\n      <td>144.75778</td>\n    </tr>\n    <tr>\n      <th>6</th>\n      <td>M1B</td>\n      <td>Scarborough</td>\n      <td>(Malvern / Rouge)</td>\n      <td>-37.902572</td>\n      <td>144.75778</td>\n    </tr>\n    <tr>\n      <th>7</th>\n      <td>M3B</td>\n      <td>North York</td>\n      <td>(Don Mills),  North</td>\n      <td>-37.902572</td>\n      <td>144.75778</td>\n    </tr>\n    <tr>\n      <th>8</th>\n      <td>M4B</td>\n      <td>East York</td>\n      <td>(Parkview Hill / Woodbine Gardens)</td>\n      <td>-37.902572</td>\n      <td>144.75778</td>\n    </tr>\n    <tr>\n      <th>9</th>\n      <td>M5B</td>\n      <td>Downtown Toronto</td>\n      <td>(Garden District, Ryerson)</td>\n      <td>-37.902572</td>\n      <td>144.75778</td>\n    </tr>\n  </tbody>\n</table>\n</div>",
                        "text/plain": "  PostalCode           Borough                         Neighborhood  \\\n0        M3A        North York                          (Parkwoods)   \n1        M4A        North York                   (Victoria Village)   \n2        M5A  Downtown Toronto         (Regent Park , Harbourfront)   \n3        M6A        North York  (Lawrence Manor , Lawrence Heights)   \n4        M7A      Queen's Park      / Ontario Provincial Government   \n5        M9A         Etobicoke                   (Islington Avenue)   \n6        M1B       Scarborough                    (Malvern / Rouge)   \n7        M3B        North York                  (Don Mills),  North   \n8        M4B         East York   (Parkview Hill / Woodbine Gardens)   \n9        M5B  Downtown Toronto           (Garden District, Ryerson)   \n\n    Latitude  Longitude  \n0 -37.902572  144.75778  \n1 -37.902572  144.75778  \n2 -37.902572  144.75778  \n3 -37.902572  144.75778  \n4 -37.902572  144.75778  \n5 -37.902572  144.75778  \n6 -37.902572  144.75778  \n7 -37.902572  144.75778  \n8 -37.902572  144.75778  \n9 -37.902572  144.75778  "
                    },
                    "execution_count": 139,
                    "metadata": {},
                    "output_type": "execute_result"
                }
            ],
            "source": "\nfor i in range(15): # To populate first 15 rows of new table\n    x=df.loc[i,'Borough']\n    y=df.loc[i, 'Neighborhood']\n    a=df.loc[i,'PostalCode']\n    address = a, x, y, \"CA\"\n    geolocator = Nominatim(user_agent=\"ny_explorer\")\n    location = geolocator.geocode('address')\n    latitude_ = location.latitude\n    longitude_ = location.longitude\n\n    df[\"Latitude\"].replace({0: latitude_}, inplace=True)\n    df[\"Longitude\"].replace({0: longitude_}, inplace=True)\n    \ndf.head(10) #Shows first 10 rows of the the Table"
        },
        {
            "cell_type": "code",
            "execution_count": null,
            "metadata": {},
            "outputs": [],
            "source": ""
        },
        {
            "cell_type": "code",
            "execution_count": null,
            "metadata": {},
            "outputs": [],
            "source": ""
        },
        {
            "cell_type": "code",
            "execution_count": null,
            "metadata": {},
            "outputs": [],
            "source": ""
        },
        {
            "cell_type": "code",
            "execution_count": null,
            "metadata": {},
            "outputs": [],
            "source": ""
        },
        {
            "cell_type": "code",
            "execution_count": null,
            "metadata": {},
            "outputs": [],
            "source": ""
        },
        {
            "cell_type": "code",
            "execution_count": null,
            "metadata": {},
            "outputs": [],
            "source": ""
        },
        {
            "cell_type": "code",
            "execution_count": null,
            "metadata": {},
            "outputs": [],
            "source": ""
        },
        {
            "cell_type": "code",
            "execution_count": null,
            "metadata": {},
            "outputs": [],
            "source": ""
        }
    ],
    "metadata": {
        "kernelspec": {
            "display_name": "Python 3.6",
            "language": "python",
            "name": "python3"
        },
        "language_info": {
            "codemirror_mode": {
                "name": "ipython",
                "version": 3
            },
            "file_extension": ".py",
            "mimetype": "text/x-python",
            "name": "python",
            "nbconvert_exporter": "python",
            "pygments_lexer": "ipython3",
            "version": "3.6.9"
        }
    },
    "nbformat": 4,
    "nbformat_minor": 1
}